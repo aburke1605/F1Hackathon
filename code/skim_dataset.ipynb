{
 "cells": [
  {
   "cell_type": "code",
   "execution_count": 13,
   "metadata": {},
   "outputs": [
    {
     "name": "stdout",
     "output_type": "stream",
     "text": [
      "Dataset reduced from 100,000 -> 38015.\n"
     ]
    },
    {
     "name": "stderr",
     "output_type": "stream",
     "text": [
      "C:\\Users\\jackh\\AppData\\Local\\Temp\\ipykernel_38740\\1063806686.py:20: DtypeWarning: Columns (21) have mixed types. Specify dtype option on import or set low_memory=False.\n",
      "  for df in pd.read_csv('../data/weather.csv', chunksize=entries):\n"
     ]
    },
    {
     "name": "stdout",
     "output_type": "stream",
     "text": [
      "Dataset reduced from 100,000 -> 85370.\n",
      "Dataset reduced from 100,000 -> 39863.\n",
      "Dataset reduced from 100,000 -> 96458.\n",
      "Dataset reduced from 100,000 -> 95688.\n",
      "Dataset reduced from 100,000 -> 87664.\n",
      "Dataset reduced from 100,000 -> 57666.\n",
      "Dataset reduced from 100,000 -> 99846.\n",
      "Dataset reduced from 100,000 -> 99923.\n",
      "Dataset reduced from 100,000 -> 99846.\n",
      "Dataset reduced from 100,000 -> 99923.\n"
     ]
    },
    {
     "name": "stderr",
     "output_type": "stream",
     "text": [
      "C:\\Users\\jackh\\AppData\\Local\\Temp\\ipykernel_38740\\1063806686.py:20: DtypeWarning: Columns (21) have mixed types. Specify dtype option on import or set low_memory=False.\n",
      "  for df in pd.read_csv('../data/weather.csv', chunksize=entries):\n"
     ]
    },
    {
     "name": "stdout",
     "output_type": "stream",
     "text": [
      "Dataset reduced from 100,000 -> 99923.\n",
      "Dataset reduced from 100,000 -> 100000.\n",
      "Dataset reduced from 100,000 -> 100000.\n"
     ]
    },
    {
     "name": "stderr",
     "output_type": "stream",
     "text": [
      "C:\\Users\\jackh\\AppData\\Local\\Temp\\ipykernel_38740\\1063806686.py:20: DtypeWarning: Columns (21) have mixed types. Specify dtype option on import or set low_memory=False.\n",
      "  for df in pd.read_csv('../data/weather.csv', chunksize=entries):\n"
     ]
    },
    {
     "name": "stdout",
     "output_type": "stream",
     "text": [
      "Dataset reduced from 100,000 -> 58919.\n",
      "Dataset reduced from 100,000 -> 77864.\n",
      "Dataset reduced from 100,000 -> 52420.\n"
     ]
    },
    {
     "name": "stderr",
     "output_type": "stream",
     "text": [
      "C:\\Users\\jackh\\AppData\\Local\\Temp\\ipykernel_38740\\1063806686.py:20: DtypeWarning: Columns (21) have mixed types. Specify dtype option on import or set low_memory=False.\n",
      "  for df in pd.read_csv('../data/weather.csv', chunksize=entries):\n"
     ]
    },
    {
     "name": "stdout",
     "output_type": "stream",
     "text": [
      "Dataset reduced from 100,000 -> 25150.\n",
      "Dataset reduced from 100,000 -> 58343.\n",
      "Dataset reduced from 100,000 -> 96612.\n",
      "Dataset reduced from 100,000 -> 27718.\n",
      "Dataset reduced from 100,000 -> 29260.\n"
     ]
    },
    {
     "name": "stderr",
     "output_type": "stream",
     "text": [
      "C:\\Users\\jackh\\AppData\\Local\\Temp\\ipykernel_38740\\1063806686.py:20: DtypeWarning: Columns (21) have mixed types. Specify dtype option on import or set low_memory=False.\n",
      "  for df in pd.read_csv('../data/weather.csv', chunksize=entries):\n"
     ]
    },
    {
     "name": "stdout",
     "output_type": "stream",
     "text": [
      "Dataset reduced from 100,000 -> 54911.\n"
     ]
    },
    {
     "name": "stderr",
     "output_type": "stream",
     "text": [
      "C:\\Users\\jackh\\AppData\\Local\\Temp\\ipykernel_38740\\1063806686.py:20: DtypeWarning: Columns (21) have mixed types. Specify dtype option on import or set low_memory=False.\n",
      "  for df in pd.read_csv('../data/weather.csv', chunksize=entries):\n"
     ]
    },
    {
     "name": "stdout",
     "output_type": "stream",
     "text": [
      "Dataset reduced from 100,000 -> 98460.\n"
     ]
    },
    {
     "name": "stderr",
     "output_type": "stream",
     "text": [
      "C:\\Users\\jackh\\AppData\\Local\\Temp\\ipykernel_38740\\1063806686.py:20: DtypeWarning: Columns (21) have mixed types. Specify dtype option on import or set low_memory=False.\n",
      "  for df in pd.read_csv('../data/weather.csv', chunksize=entries):\n"
     ]
    },
    {
     "name": "stdout",
     "output_type": "stream",
     "text": [
      "Dataset reduced from 100,000 -> 98922.\n"
     ]
    },
    {
     "name": "stderr",
     "output_type": "stream",
     "text": [
      "C:\\Users\\jackh\\AppData\\Local\\Temp\\ipykernel_38740\\1063806686.py:20: DtypeWarning: Columns (21) have mixed types. Specify dtype option on import or set low_memory=False.\n",
      "  for df in pd.read_csv('../data/weather.csv', chunksize=entries):\n"
     ]
    },
    {
     "name": "stdout",
     "output_type": "stream",
     "text": [
      "Dataset reduced from 100,000 -> 99153.\n"
     ]
    },
    {
     "name": "stderr",
     "output_type": "stream",
     "text": [
      "C:\\Users\\jackh\\AppData\\Local\\Temp\\ipykernel_38740\\1063806686.py:20: DtypeWarning: Columns (21) have mixed types. Specify dtype option on import or set low_memory=False.\n",
      "  for df in pd.read_csv('../data/weather.csv', chunksize=entries):\n"
     ]
    },
    {
     "name": "stdout",
     "output_type": "stream",
     "text": [
      "Dataset reduced from 100,000 -> 60345.\n",
      "Dataset reduced from 100,000 -> 94533.\n",
      "Dataset reduced from 100,000 -> 43225.\n"
     ]
    },
    {
     "name": "stderr",
     "output_type": "stream",
     "text": [
      "C:\\Users\\jackh\\AppData\\Local\\Temp\\ipykernel_38740\\1063806686.py:20: DtypeWarning: Columns (21) have mixed types. Specify dtype option on import or set low_memory=False.\n",
      "  for df in pd.read_csv('../data/weather.csv', chunksize=entries):\n"
     ]
    },
    {
     "name": "stdout",
     "output_type": "stream",
     "text": [
      "Dataset reduced from 100,000 -> 76541.\n"
     ]
    },
    {
     "name": "stderr",
     "output_type": "stream",
     "text": [
      "C:\\Users\\jackh\\AppData\\Local\\Temp\\ipykernel_38740\\1063806686.py:20: DtypeWarning: Columns (21) have mixed types. Specify dtype option on import or set low_memory=False.\n",
      "  for df in pd.read_csv('../data/weather.csv', chunksize=entries):\n"
     ]
    },
    {
     "name": "stdout",
     "output_type": "stream",
     "text": [
      "Dataset reduced from 100,000 -> 60519.\n",
      "Dataset reduced from 100,000 -> 60248.\n",
      "Dataset reduced from 100,000 -> 99923.\n",
      "Dataset reduced from 100,000 -> 99846.\n",
      "Dataset reduced from 100,000 -> 99846.\n",
      "Dataset reduced from 100,000 -> 72174.\n",
      "Reduced dataset to: 2745117\n"
     ]
    }
   ],
   "source": [
    "# This Python 3 environment comes with many helpful analytics libraries installed\n",
    "# It is defined by the kaggle/python Docker image: https://github.com/kaggle/docker-python\n",
    "# For example, here's several helpful packages to load\n",
    "\n",
    "import numpy as np # linear algebra\n",
    "import pandas as pd # data processing, CSV file I/O (e.g. pd.read_csv)\n",
    "import json\n",
    "\n",
    "\n",
    "with open('../data/columns_to_drop.json', 'r') as f:\n",
    "    remove_dict = json.load(f)\n",
    "\n",
    "count = 0\n",
    "\n",
    "\n",
    "entries = 100000\n",
    "dfs = []\n",
    "\n",
    "total = 0\n",
    "for df in pd.read_csv('../data/weather.csv', chunksize=entries):\n",
    "    \n",
    "    out_name = f'../data/skimmed/skimmed_weather{count}.csv'\n",
    "    df = df.loc[df['M_NUM_WEATHER_FORECAST_SAMPLES'] > 0]\n",
    "    x = len(df)\n",
    "    df = df[remove_dict['keep'] + remove_dict['unsure']]\n",
    "    count+=1\n",
    "    print(f'Dataset reduced from 100,000 -> {x}.')\n",
    "    total += x\n",
    "    df.to_csv(out_name)\n",
    "    #break # take 1 times 1000 entries for now, dataset is huge!\n",
    "\n",
    "print(f'Reduced dataset to: {total}')"
   ]
  }
 ],
 "metadata": {
  "interpreter": {
   "hash": "28730bd61c8123345ca5d0ade73eb57fb69a170bc465caa44bb0380213f13bc1"
  },
  "kernelspec": {
   "display_name": "Python 3.9.7 ('FormulaAI')",
   "language": "python",
   "name": "python3"
  },
  "language_info": {
   "codemirror_mode": {
    "name": "ipython",
    "version": 3
   },
   "file_extension": ".py",
   "mimetype": "text/x-python",
   "name": "python",
   "nbconvert_exporter": "python",
   "pygments_lexer": "ipython3",
   "version": "3.9.7"
  },
  "orig_nbformat": 4
 },
 "nbformat": 4,
 "nbformat_minor": 2
}
